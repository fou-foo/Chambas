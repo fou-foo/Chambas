{
 "cells": [
  {
   "cell_type": "code",
   "execution_count": 1,
   "id": "e032152a-c268-48ff-af09-e4fd0d56e087",
   "metadata": {
    "tags": []
   },
   "outputs": [],
   "source": [
    "import pandas as pd\n",
    "import numpy as np\n",
    "import re"
   ]
  },
  {
   "cell_type": "code",
   "execution_count": 2,
   "id": "d2e9ffe2-4063-4016-aaef-0cacf38d89f1",
   "metadata": {
    "tags": []
   },
   "outputs": [],
   "source": [
    "users = pd.read_csv(\"users.csv\") \n",
    "candidate = pd.read_csv(\"candidate.csv\") "
   ]
  },
  {
   "cell_type": "markdown",
   "id": "2b12f446-d9c3-4978-bb38-d81a94036476",
   "metadata": {},
   "source": [
    "# 1 Para la tabla de users, calcule y cree las siguientes nuevas columnas:\n",
    "\n",
    "## a.  Año de la deuda más antigua de cada usuario."
   ]
  },
  {
   "cell_type": "code",
   "execution_count": 3,
   "id": "e9d76cfb-4623-4880-a966-eff655074b1b",
   "metadata": {
    "tags": []
   },
   "outputs": [
    {
     "data": {
      "text/html": [
       "<div>\n",
       "<style scoped>\n",
       "    .dataframe tbody tr th:only-of-type {\n",
       "        vertical-align: middle;\n",
       "    }\n",
       "\n",
       "    .dataframe tbody tr th {\n",
       "        vertical-align: top;\n",
       "    }\n",
       "\n",
       "    .dataframe thead th {\n",
       "        text-align: right;\n",
       "    }\n",
       "</style>\n",
       "<table border=\"1\" class=\"dataframe\">\n",
       "  <thead>\n",
       "    <tr style=\"text-align: right;\">\n",
       "      <th></th>\n",
       "      <th>user_id</th>\n",
       "      <th>identity_code</th>\n",
       "      <th>gender</th>\n",
       "      <th>birthday</th>\n",
       "      <th>cellphone</th>\n",
       "      <th>phone_verified</th>\n",
       "      <th>freemium</th>\n",
       "      <th>country_code</th>\n",
       "      <th>date_joined</th>\n",
       "      <th>last_login</th>\n",
       "      <th>...</th>\n",
       "      <th>has_address</th>\n",
       "      <th>address_created</th>\n",
       "      <th>has_omited_buro</th>\n",
       "      <th>has_score_buro</th>\n",
       "      <th>has_score_buro_complete</th>\n",
       "      <th>has_register_complete</th>\n",
       "      <th>identity_code_created</th>\n",
       "      <th>registration_date</th>\n",
       "      <th>extra</th>\n",
       "      <th>ANIO_DEUDA</th>\n",
       "    </tr>\n",
       "  </thead>\n",
       "  <tbody>\n",
       "    <tr>\n",
       "      <th>0</th>\n",
       "      <td>2814338861</td>\n",
       "      <td>3731321800</td>\n",
       "      <td>f</td>\n",
       "      <td>1964-03-03T00:00:00Z</td>\n",
       "      <td>NaN</td>\n",
       "      <td>0.0</td>\n",
       "      <td>0.0</td>\n",
       "      <td>cl</td>\n",
       "      <td>2021-06-01 20:07:37.000</td>\n",
       "      <td>2021-06-30 15:27:45.000</td>\n",
       "      <td>...</td>\n",
       "      <td>True</td>\n",
       "      <td>2021-06-01 20:13:54.000</td>\n",
       "      <td>False</td>\n",
       "      <td>False</td>\n",
       "      <td>False</td>\n",
       "      <td>True</td>\n",
       "      <td>2021-06-01 20:10:58.677</td>\n",
       "      <td>2021-06-01 20:13:54.000</td>\n",
       "      <td>{\"antiquity\":\"1999\",\"product_detail\":\"31783345...</td>\n",
       "      <td>1999</td>\n",
       "    </tr>\n",
       "    <tr>\n",
       "      <th>3</th>\n",
       "      <td>2647368769</td>\n",
       "      <td>603804005</td>\n",
       "      <td>f</td>\n",
       "      <td>1977-10-11</td>\n",
       "      <td>NaN</td>\n",
       "      <td>NaN</td>\n",
       "      <td>NaN</td>\n",
       "      <td>cl</td>\n",
       "      <td>2016-09-13 06:48:37.000</td>\n",
       "      <td>2016-09-15 05:34:44.000</td>\n",
       "      <td>...</td>\n",
       "      <td>True</td>\n",
       "      <td>2016-09-15 05:38:21.000</td>\n",
       "      <td>False</td>\n",
       "      <td>False</td>\n",
       "      <td>False</td>\n",
       "      <td>True</td>\n",
       "      <td>2016-09-13 06:48:49.000</td>\n",
       "      <td>2016-09-15 05:38:21.000</td>\n",
       "      <td>{\"antiquity\":\"2000\",\"product_detail\":\"22731058...</td>\n",
       "      <td>2000</td>\n",
       "    </tr>\n",
       "    <tr>\n",
       "      <th>10</th>\n",
       "      <td>2503582503</td>\n",
       "      <td>506792771</td>\n",
       "      <td>f</td>\n",
       "      <td>1985-02-18T00:00:00Z</td>\n",
       "      <td>NaN</td>\n",
       "      <td>NaN</td>\n",
       "      <td>NaN</td>\n",
       "      <td>cl</td>\n",
       "      <td>2019-05-24 08:23:25.000</td>\n",
       "      <td>2021-11-20 18:11:56.000</td>\n",
       "      <td>...</td>\n",
       "      <td>True</td>\n",
       "      <td>2020-04-29 19:17:15.000</td>\n",
       "      <td>False</td>\n",
       "      <td>False</td>\n",
       "      <td>False</td>\n",
       "      <td>True</td>\n",
       "      <td>2020-04-29 19:16:08.262</td>\n",
       "      <td>2020-04-29 19:17:15.000</td>\n",
       "      <td>{\"antiquity\":\"2021\",\"product_detail\":\"10471160...</td>\n",
       "      <td>2021</td>\n",
       "    </tr>\n",
       "    <tr>\n",
       "      <th>15</th>\n",
       "      <td>3861733674</td>\n",
       "      <td>735296655</td>\n",
       "      <td>f</td>\n",
       "      <td>1981-09-01T00:00:00Z</td>\n",
       "      <td>967001461.0</td>\n",
       "      <td>1.0</td>\n",
       "      <td>0.0</td>\n",
       "      <td>cl</td>\n",
       "      <td>2020-11-19 11:35:17.000</td>\n",
       "      <td>2023-06-21 12:49:26.000</td>\n",
       "      <td>...</td>\n",
       "      <td>True</td>\n",
       "      <td>2020-11-19 11:38:21.000</td>\n",
       "      <td>False</td>\n",
       "      <td>False</td>\n",
       "      <td>False</td>\n",
       "      <td>True</td>\n",
       "      <td>2020-11-19 11:37:50.894</td>\n",
       "      <td>2020-11-19 11:38:21.000</td>\n",
       "      <td>{\"antiquity\":\"2022\",\"product_detail\":\"10167231...</td>\n",
       "      <td>2022</td>\n",
       "    </tr>\n",
       "    <tr>\n",
       "      <th>16</th>\n",
       "      <td>3861733674</td>\n",
       "      <td>735296655</td>\n",
       "      <td>f</td>\n",
       "      <td>1981-09-01T00:00:00Z</td>\n",
       "      <td>967001461.0</td>\n",
       "      <td>1.0</td>\n",
       "      <td>0.0</td>\n",
       "      <td>cl</td>\n",
       "      <td>2020-11-19 11:35:17.000</td>\n",
       "      <td>2023-06-21 12:49:26.000</td>\n",
       "      <td>...</td>\n",
       "      <td>True</td>\n",
       "      <td>2020-11-19 11:38:21.000</td>\n",
       "      <td>False</td>\n",
       "      <td>False</td>\n",
       "      <td>False</td>\n",
       "      <td>True</td>\n",
       "      <td>2020-11-19 11:37:50.894</td>\n",
       "      <td>2020-11-19 11:38:21.000</td>\n",
       "      <td>{\"antiquity\":\"2003\",\"product_detail\":\"22567364...</td>\n",
       "      <td>2003</td>\n",
       "    </tr>\n",
       "    <tr>\n",
       "      <th>...</th>\n",
       "      <td>...</td>\n",
       "      <td>...</td>\n",
       "      <td>...</td>\n",
       "      <td>...</td>\n",
       "      <td>...</td>\n",
       "      <td>...</td>\n",
       "      <td>...</td>\n",
       "      <td>...</td>\n",
       "      <td>...</td>\n",
       "      <td>...</td>\n",
       "      <td>...</td>\n",
       "      <td>...</td>\n",
       "      <td>...</td>\n",
       "      <td>...</td>\n",
       "      <td>...</td>\n",
       "      <td>...</td>\n",
       "      <td>...</td>\n",
       "      <td>...</td>\n",
       "      <td>...</td>\n",
       "      <td>...</td>\n",
       "      <td>...</td>\n",
       "    </tr>\n",
       "    <tr>\n",
       "      <th>14800</th>\n",
       "      <td>3465828741</td>\n",
       "      <td>1261881570</td>\n",
       "      <td>f</td>\n",
       "      <td>1986-10-22</td>\n",
       "      <td>NaN</td>\n",
       "      <td>NaN</td>\n",
       "      <td>NaN</td>\n",
       "      <td>cl</td>\n",
       "      <td>2018-06-16 15:48:38.000</td>\n",
       "      <td>2021-01-25 13:33:43.000</td>\n",
       "      <td>...</td>\n",
       "      <td>True</td>\n",
       "      <td>2018-06-16 16:00:46.000</td>\n",
       "      <td>False</td>\n",
       "      <td>False</td>\n",
       "      <td>False</td>\n",
       "      <td>True</td>\n",
       "      <td>2018-06-16 15:48:50.000</td>\n",
       "      <td>2018-06-16 16:00:46.000</td>\n",
       "      <td>{\"antiquity\":\"2022\",\"product_detail\":\"40507987...</td>\n",
       "      <td>2022</td>\n",
       "    </tr>\n",
       "    <tr>\n",
       "      <th>14801</th>\n",
       "      <td>4244811576</td>\n",
       "      <td>2723554534</td>\n",
       "      <td>f</td>\n",
       "      <td>1964-04-11</td>\n",
       "      <td>NaN</td>\n",
       "      <td>NaN</td>\n",
       "      <td>NaN</td>\n",
       "      <td>cl</td>\n",
       "      <td>2019-06-11 12:16:06.000</td>\n",
       "      <td>2022-10-20 16:59:27.000</td>\n",
       "      <td>...</td>\n",
       "      <td>True</td>\n",
       "      <td>2019-06-11 16:24:21.000</td>\n",
       "      <td>False</td>\n",
       "      <td>False</td>\n",
       "      <td>False</td>\n",
       "      <td>True</td>\n",
       "      <td>2019-06-11 16:16:07.000</td>\n",
       "      <td>2019-06-11 16:24:21.000</td>\n",
       "      <td>{\"antiquity\":\"2015\",\"product_detail\":\"22672184...</td>\n",
       "      <td>2015</td>\n",
       "    </tr>\n",
       "    <tr>\n",
       "      <th>14807</th>\n",
       "      <td>2396076563</td>\n",
       "      <td>2371471915</td>\n",
       "      <td>m</td>\n",
       "      <td>1971-12-15T00:00:00Z</td>\n",
       "      <td>NaN</td>\n",
       "      <td>0.0</td>\n",
       "      <td>0.0</td>\n",
       "      <td>cl</td>\n",
       "      <td>2023-01-04 14:18:27.000</td>\n",
       "      <td>2023-01-04 14:20:05.000</td>\n",
       "      <td>...</td>\n",
       "      <td>NaN</td>\n",
       "      <td>NaN</td>\n",
       "      <td>False</td>\n",
       "      <td>False</td>\n",
       "      <td>False</td>\n",
       "      <td>NaN</td>\n",
       "      <td>2023-01-04 14:21:16.439</td>\n",
       "      <td>NaN</td>\n",
       "      <td>{\"antiquity\":\"2002\",\"product_detail\":\"15620853...</td>\n",
       "      <td>2002</td>\n",
       "    </tr>\n",
       "    <tr>\n",
       "      <th>14809</th>\n",
       "      <td>3933793265</td>\n",
       "      <td>3633596764</td>\n",
       "      <td>f</td>\n",
       "      <td>1996-05-22T00:00:00Z</td>\n",
       "      <td>NaN</td>\n",
       "      <td>NaN</td>\n",
       "      <td>NaN</td>\n",
       "      <td>cl</td>\n",
       "      <td>2018-06-28 05:07:34.000</td>\n",
       "      <td>2022-09-15 02:14:11.000</td>\n",
       "      <td>...</td>\n",
       "      <td>True</td>\n",
       "      <td>2020-07-12 17:43:27.000</td>\n",
       "      <td>False</td>\n",
       "      <td>False</td>\n",
       "      <td>False</td>\n",
       "      <td>True</td>\n",
       "      <td>2020-07-12 17:42:57.300</td>\n",
       "      <td>2020-07-12 17:43:27.000</td>\n",
       "      <td>{\"antiquity\":\"2022\",\"product_detail\":\"421469434\"}</td>\n",
       "      <td>2022</td>\n",
       "    </tr>\n",
       "    <tr>\n",
       "      <th>14811</th>\n",
       "      <td>1477649503</td>\n",
       "      <td>603877299</td>\n",
       "      <td>m</td>\n",
       "      <td>1987-09-28</td>\n",
       "      <td>NaN</td>\n",
       "      <td>NaN</td>\n",
       "      <td>NaN</td>\n",
       "      <td>cl</td>\n",
       "      <td>2018-08-22 17:40:05.000</td>\n",
       "      <td>2023-08-11 05:30:30.000</td>\n",
       "      <td>...</td>\n",
       "      <td>True</td>\n",
       "      <td>2018-08-22 17:44:30.000</td>\n",
       "      <td>False</td>\n",
       "      <td>False</td>\n",
       "      <td>False</td>\n",
       "      <td>True</td>\n",
       "      <td>2018-08-22 17:40:16.000</td>\n",
       "      <td>2018-08-22 17:44:30.000</td>\n",
       "      <td>{\"antiquity\":\"2022\",\"product_detail\":\"515825535\"}</td>\n",
       "      <td>2022</td>\n",
       "    </tr>\n",
       "  </tbody>\n",
       "</table>\n",
       "<p>6943 rows × 24 columns</p>\n",
       "</div>"
      ],
      "text/plain": [
       "          user_id  identity_code gender              birthday    cellphone  \\\n",
       "0      2814338861     3731321800      f  1964-03-03T00:00:00Z          NaN   \n",
       "3      2647368769      603804005      f            1977-10-11          NaN   \n",
       "10     2503582503      506792771      f  1985-02-18T00:00:00Z          NaN   \n",
       "15     3861733674      735296655      f  1981-09-01T00:00:00Z  967001461.0   \n",
       "16     3861733674      735296655      f  1981-09-01T00:00:00Z  967001461.0   \n",
       "...           ...            ...    ...                   ...          ...   \n",
       "14800  3465828741     1261881570      f            1986-10-22          NaN   \n",
       "14801  4244811576     2723554534      f            1964-04-11          NaN   \n",
       "14807  2396076563     2371471915      m  1971-12-15T00:00:00Z          NaN   \n",
       "14809  3933793265     3633596764      f  1996-05-22T00:00:00Z          NaN   \n",
       "14811  1477649503      603877299      m            1987-09-28          NaN   \n",
       "\n",
       "       phone_verified  freemium country_code              date_joined  \\\n",
       "0                 0.0       0.0           cl  2021-06-01 20:07:37.000   \n",
       "3                 NaN       NaN           cl  2016-09-13 06:48:37.000   \n",
       "10                NaN       NaN           cl  2019-05-24 08:23:25.000   \n",
       "15                1.0       0.0           cl  2020-11-19 11:35:17.000   \n",
       "16                1.0       0.0           cl  2020-11-19 11:35:17.000   \n",
       "...               ...       ...          ...                      ...   \n",
       "14800             NaN       NaN           cl  2018-06-16 15:48:38.000   \n",
       "14801             NaN       NaN           cl  2019-06-11 12:16:06.000   \n",
       "14807             0.0       0.0           cl  2023-01-04 14:18:27.000   \n",
       "14809             NaN       NaN           cl  2018-06-28 05:07:34.000   \n",
       "14811             NaN       NaN           cl  2018-08-22 17:40:05.000   \n",
       "\n",
       "                    last_login  ...  has_address          address_created  \\\n",
       "0      2021-06-30 15:27:45.000  ...         True  2021-06-01 20:13:54.000   \n",
       "3      2016-09-15 05:34:44.000  ...         True  2016-09-15 05:38:21.000   \n",
       "10     2021-11-20 18:11:56.000  ...         True  2020-04-29 19:17:15.000   \n",
       "15     2023-06-21 12:49:26.000  ...         True  2020-11-19 11:38:21.000   \n",
       "16     2023-06-21 12:49:26.000  ...         True  2020-11-19 11:38:21.000   \n",
       "...                        ...  ...          ...                      ...   \n",
       "14800  2021-01-25 13:33:43.000  ...         True  2018-06-16 16:00:46.000   \n",
       "14801  2022-10-20 16:59:27.000  ...         True  2019-06-11 16:24:21.000   \n",
       "14807  2023-01-04 14:20:05.000  ...          NaN                      NaN   \n",
       "14809  2022-09-15 02:14:11.000  ...         True  2020-07-12 17:43:27.000   \n",
       "14811  2023-08-11 05:30:30.000  ...         True  2018-08-22 17:44:30.000   \n",
       "\n",
       "      has_omited_buro has_score_buro has_score_buro_complete  \\\n",
       "0               False          False                   False   \n",
       "3               False          False                   False   \n",
       "10              False          False                   False   \n",
       "15              False          False                   False   \n",
       "16              False          False                   False   \n",
       "...               ...            ...                     ...   \n",
       "14800           False          False                   False   \n",
       "14801           False          False                   False   \n",
       "14807           False          False                   False   \n",
       "14809           False          False                   False   \n",
       "14811           False          False                   False   \n",
       "\n",
       "      has_register_complete    identity_code_created        registration_date  \\\n",
       "0                      True  2021-06-01 20:10:58.677  2021-06-01 20:13:54.000   \n",
       "3                      True  2016-09-13 06:48:49.000  2016-09-15 05:38:21.000   \n",
       "10                     True  2020-04-29 19:16:08.262  2020-04-29 19:17:15.000   \n",
       "15                     True  2020-11-19 11:37:50.894  2020-11-19 11:38:21.000   \n",
       "16                     True  2020-11-19 11:37:50.894  2020-11-19 11:38:21.000   \n",
       "...                     ...                      ...                      ...   \n",
       "14800                  True  2018-06-16 15:48:50.000  2018-06-16 16:00:46.000   \n",
       "14801                  True  2019-06-11 16:16:07.000  2019-06-11 16:24:21.000   \n",
       "14807                   NaN  2023-01-04 14:21:16.439                      NaN   \n",
       "14809                  True  2020-07-12 17:42:57.300  2020-07-12 17:43:27.000   \n",
       "14811                  True  2018-08-22 17:40:16.000  2018-08-22 17:44:30.000   \n",
       "\n",
       "                                                   extra ANIO_DEUDA  \n",
       "0      {\"antiquity\":\"1999\",\"product_detail\":\"31783345...       1999  \n",
       "3      {\"antiquity\":\"2000\",\"product_detail\":\"22731058...       2000  \n",
       "10     {\"antiquity\":\"2021\",\"product_detail\":\"10471160...       2021  \n",
       "15     {\"antiquity\":\"2022\",\"product_detail\":\"10167231...       2022  \n",
       "16     {\"antiquity\":\"2003\",\"product_detail\":\"22567364...       2003  \n",
       "...                                                  ...        ...  \n",
       "14800  {\"antiquity\":\"2022\",\"product_detail\":\"40507987...       2022  \n",
       "14801  {\"antiquity\":\"2015\",\"product_detail\":\"22672184...       2015  \n",
       "14807  {\"antiquity\":\"2002\",\"product_detail\":\"15620853...       2002  \n",
       "14809  {\"antiquity\":\"2022\",\"product_detail\":\"421469434\"}       2022  \n",
       "14811  {\"antiquity\":\"2022\",\"product_detail\":\"515825535\"}       2022  \n",
       "\n",
       "[6943 rows x 24 columns]"
      ]
     },
     "execution_count": 3,
     "metadata": {},
     "output_type": "execute_result"
    }
   ],
   "source": [
    "data_1_1 = pd.merge(users, candidate[['extra', 'identity_code']], how=\"inner\", left_on=\"identity_code\", right_on=\"identity_code\") \n",
    "# SUPONEMOS QUE LA COLUMNA 'extra' CONTIENE LA FECHA DE LA DEUDA EN LUGAR DE debt_date (YA QUE ESTA CONTIENE MUCHOS NULOS) \n",
    "index = data_1_1.extra.isna()\n",
    "data_1_1 = data_1_1[~index]\n",
    "data_1_1['ANIO_DEUDA'] = data_1_1.apply( lambda l : re.sub('{\"antiquity\":', \"\", str(l['extra']) )  , axis=1) \n",
    "data_1_1['ANIO_DEUDA'] = data_1_1.apply( lambda l : re.sub('\"', \"\", str(l['ANIO_DEUDA']) )  , axis=1) \n",
    "data_1_1['ANIO_DEUDA'] = data_1_1.apply( lambda l : re.sub('\"', \"\", str(l['ANIO_DEUDA']) )  , axis=1) \n",
    "data_1_1['ANIO_DEUDA'] = data_1_1.apply( lambda l : str(l['ANIO_DEUDA']).split(\",\")[0]   , axis=1) \n",
    "\n",
    "data_1_1 # -> hacer join con tabla de USERs : falta definir si un nulo es adecuado para los que se desconoce el año de la deuda más antigua"
   ]
  },
  {
   "cell_type": "markdown",
   "id": "53dedd59-d4e8-4ef1-a58d-d64ae64d6268",
   "metadata": {
    "tags": []
   },
   "source": [
    "# b. Cantidad de receptores para cada usuario."
   ]
  },
  {
   "cell_type": "code",
   "execution_count": 4,
   "id": "7d18d45a-d394-4aec-9478-27a5cd9e68ab",
   "metadata": {
    "tags": []
   },
   "outputs": [
    {
     "data": {
      "text/plain": [
       "user_id\n",
       "223682        1\n",
       "329620        1\n",
       "571275        1\n",
       "1138942       1\n",
       "1214148       1\n",
       "             ..\n",
       "4293771767    0\n",
       "4294111321    0\n",
       "4294133517    1\n",
       "4294177605    1\n",
       "4294599844    1\n",
       "Name: receiver_tag_id, Length: 17196, dtype: int64"
      ]
     },
     "execution_count": 4,
     "metadata": {},
     "output_type": "execute_result"
    }
   ],
   "source": [
    "data_1_2 = pd.merge(users, candidate[['receiver_tag_id', 'identity_code']], how=\"left\", left_on=\"identity_code\", right_on=\"identity_code\") \n",
    "data_1_2[['user_id', 'receiver_tag_id']].groupby(['user_id']) ['receiver_tag_id'].count()"
   ]
  },
  {
   "cell_type": "markdown",
   "id": "214c5178-3df2-4110-a20c-fcb727bf047f",
   "metadata": {},
   "source": [
    "## c. Id de la deuda con el menor monto a pagar."
   ]
  },
  {
   "cell_type": "code",
   "execution_count": 5,
   "id": "d9ebd347-97f6-4b16-8b57-0530aa122e44",
   "metadata": {
    "tags": []
   },
   "outputs": [
    {
     "data": {
      "text/html": [
       "<div>\n",
       "<style scoped>\n",
       "    .dataframe tbody tr th:only-of-type {\n",
       "        vertical-align: middle;\n",
       "    }\n",
       "\n",
       "    .dataframe tbody tr th {\n",
       "        vertical-align: top;\n",
       "    }\n",
       "\n",
       "    .dataframe thead th {\n",
       "        text-align: right;\n",
       "    }\n",
       "</style>\n",
       "<table border=\"1\" class=\"dataframe\">\n",
       "  <thead>\n",
       "    <tr style=\"text-align: right;\">\n",
       "      <th></th>\n",
       "      <th>id</th>\n",
       "      <th>debt_amount</th>\n",
       "    </tr>\n",
       "  </thead>\n",
       "  <tbody>\n",
       "    <tr>\n",
       "      <th>9091</th>\n",
       "      <td>1003851399</td>\n",
       "      <td>2601.0</td>\n",
       "    </tr>\n",
       "    <tr>\n",
       "      <th>4466</th>\n",
       "      <td>2448706599</td>\n",
       "      <td>4219.0</td>\n",
       "    </tr>\n",
       "  </tbody>\n",
       "</table>\n",
       "</div>"
      ],
      "text/plain": [
       "              id  debt_amount\n",
       "9091  1003851399       2601.0\n",
       "4466  2448706599       4219.0"
      ]
     },
     "execution_count": 5,
     "metadata": {},
     "output_type": "execute_result"
    }
   ],
   "source": [
    "data_1_3 = pd.merge(users, candidate[['id', 'debt_amount',  'identity_code']], how=\"inner\", left_on=\"identity_code\", right_on=\"identity_code\") \n",
    "data_1_3 = data_1_3.sort_values( by = 'debt_amount' ) \n",
    "data_1_3[['id', 'debt_amount']].head(2)"
   ]
  },
  {
   "cell_type": "markdown",
   "id": "10ba47d9-fa6e-4f9c-98a1-724d85d6b3db",
   "metadata": {},
   "source": [
    "## d. Monto promedio adeudado por cada usuario."
   ]
  },
  {
   "cell_type": "code",
   "execution_count": 40,
   "id": "59fb3abe-aca6-49ac-ab9f-6545208b8506",
   "metadata": {
    "tags": []
   },
   "outputs": [
    {
     "data": {
      "text/html": [
       "<div>\n",
       "<style scoped>\n",
       "    .dataframe tbody tr th:only-of-type {\n",
       "        vertical-align: middle;\n",
       "    }\n",
       "\n",
       "    .dataframe tbody tr th {\n",
       "        vertical-align: top;\n",
       "    }\n",
       "\n",
       "    .dataframe thead th {\n",
       "        text-align: right;\n",
       "    }\n",
       "</style>\n",
       "<table border=\"1\" class=\"dataframe\">\n",
       "  <thead>\n",
       "    <tr style=\"text-align: right;\">\n",
       "      <th></th>\n",
       "      <th>user_id</th>\n",
       "      <th>debt_amount</th>\n",
       "    </tr>\n",
       "  </thead>\n",
       "  <tbody>\n",
       "    <tr>\n",
       "      <th>0</th>\n",
       "      <td>223682</td>\n",
       "      <td>349736.0</td>\n",
       "    </tr>\n",
       "    <tr>\n",
       "      <th>1</th>\n",
       "      <td>329620</td>\n",
       "      <td>749405.0</td>\n",
       "    </tr>\n",
       "    <tr>\n",
       "      <th>2</th>\n",
       "      <td>571275</td>\n",
       "      <td>19562.0</td>\n",
       "    </tr>\n",
       "    <tr>\n",
       "      <th>3</th>\n",
       "      <td>1138942</td>\n",
       "      <td>567602.0</td>\n",
       "    </tr>\n",
       "    <tr>\n",
       "      <th>4</th>\n",
       "      <td>1214148</td>\n",
       "      <td>39069.0</td>\n",
       "    </tr>\n",
       "    <tr>\n",
       "      <th>...</th>\n",
       "      <td>...</td>\n",
       "      <td>...</td>\n",
       "    </tr>\n",
       "    <tr>\n",
       "      <th>17191</th>\n",
       "      <td>4293771767</td>\n",
       "      <td>NaN</td>\n",
       "    </tr>\n",
       "    <tr>\n",
       "      <th>17192</th>\n",
       "      <td>4294111321</td>\n",
       "      <td>NaN</td>\n",
       "    </tr>\n",
       "    <tr>\n",
       "      <th>17193</th>\n",
       "      <td>4294133517</td>\n",
       "      <td>480512.0</td>\n",
       "    </tr>\n",
       "    <tr>\n",
       "      <th>17194</th>\n",
       "      <td>4294177605</td>\n",
       "      <td>182115.0</td>\n",
       "    </tr>\n",
       "    <tr>\n",
       "      <th>17195</th>\n",
       "      <td>4294599844</td>\n",
       "      <td>123292.0</td>\n",
       "    </tr>\n",
       "  </tbody>\n",
       "</table>\n",
       "<p>17196 rows × 2 columns</p>\n",
       "</div>"
      ],
      "text/plain": [
       "          user_id  debt_amount\n",
       "0          223682     349736.0\n",
       "1          329620     749405.0\n",
       "2          571275      19562.0\n",
       "3         1138942     567602.0\n",
       "4         1214148      39069.0\n",
       "...           ...          ...\n",
       "17191  4293771767          NaN\n",
       "17192  4294111321          NaN\n",
       "17193  4294133517     480512.0\n",
       "17194  4294177605     182115.0\n",
       "17195  4294599844     123292.0\n",
       "\n",
       "[17196 rows x 2 columns]"
      ]
     },
     "execution_count": 40,
     "metadata": {},
     "output_type": "execute_result"
    }
   ],
   "source": [
    "data_1_4 = pd.merge(users, candidate[[ 'debt_amount',  'identity_code']], how=\"left\", left_on=\"identity_code\", right_on=\"identity_code\") \n",
    "data_1_4[['user_id', 'debt_amount']].groupby(['user_id'])['debt_amount'].mean()\n",
    "plot1 = data_1_4[['user_id', 'debt_amount']].groupby(['user_id'])['debt_amount'].mean()\n",
    "plot1 = pd.DataFrame(plot1 ) \n",
    "plot1.reset_index(inplace=True) \n",
    "plot1"
   ]
  },
  {
   "cell_type": "markdown",
   "id": "7a1e2582-3a90-447d-892d-9908e556156c",
   "metadata": {
    "tags": []
   },
   "source": [
    "## e. Monto promedio a pagar por cada usuario.\n"
   ]
  },
  {
   "cell_type": "code",
   "execution_count": 7,
   "id": "6326294c-7272-47ba-8dd3-922ed05928ae",
   "metadata": {
    "tags": []
   },
   "outputs": [
    {
     "data": {
      "text/plain": [
       "user_id\n",
       "223682        349736.00\n",
       "329620        374702.50\n",
       "571275         19562.00\n",
       "1138942       272448.96\n",
       "1214148        19925.19\n",
       "                ...    \n",
       "4293771767          NaN\n",
       "4294111321          NaN\n",
       "4294133517    403630.08\n",
       "4294177605     56455.65\n",
       "4294599844     38220.52\n",
       "Name: PorPagar, Length: 17196, dtype: float64"
      ]
     },
     "execution_count": 7,
     "metadata": {},
     "output_type": "execute_result"
    }
   ],
   "source": [
    "data_1_5 = pd.merge(users, candidate[[ 'max_discount',  'debt_amount', 'identity_code']], how=\"left\", left_on=\"identity_code\", right_on=\"identity_code\") \n",
    "data_1_5[\"PorPagar\"] =  ((100-data_1_5[\"max_discount\"])/100)*data_1_5['debt_amount']\n",
    "data_1_5[['user_id', \"PorPagar\"]].groupby(['user_id'])[\"PorPagar\"].mean()"
   ]
  },
  {
   "cell_type": "markdown",
   "id": "9ba10549-b644-4ec2-91d2-c6b9b9132d45",
   "metadata": {
    "tags": []
   },
   "source": [
    "# 2. Cree una nueva tabla llamada receivers, agregada a nivel de receiver_id, que contenga las siguientes columnas:\n",
    "\n"
   ]
  },
  {
   "cell_type": "markdown",
   "id": "ee983813-8b4e-46bd-a831-090b095fc6d3",
   "metadata": {},
   "source": [
    "## a. Cantidad de subinstituciones por cada institución.\n",
    "\n"
   ]
  },
  {
   "cell_type": "code",
   "execution_count": 8,
   "id": "848f06b0-962c-436c-bd3d-4d26ae1dfe8f",
   "metadata": {
    "tags": []
   },
   "outputs": [
    {
     "data": {
      "text/html": [
       "<div>\n",
       "<style scoped>\n",
       "    .dataframe tbody tr th:only-of-type {\n",
       "        vertical-align: middle;\n",
       "    }\n",
       "\n",
       "    .dataframe tbody tr th {\n",
       "        vertical-align: top;\n",
       "    }\n",
       "\n",
       "    .dataframe thead th {\n",
       "        text-align: right;\n",
       "    }\n",
       "</style>\n",
       "<table border=\"1\" class=\"dataframe\">\n",
       "  <thead>\n",
       "    <tr style=\"text-align: right;\">\n",
       "      <th></th>\n",
       "      <th>receiver_tag_id</th>\n",
       "      <th>Cantidad_subinstituciones</th>\n",
       "    </tr>\n",
       "  </thead>\n",
       "  <tbody>\n",
       "    <tr>\n",
       "      <th>8</th>\n",
       "      <td>221</td>\n",
       "      <td>7</td>\n",
       "    </tr>\n",
       "    <tr>\n",
       "      <th>10</th>\n",
       "      <td>257</td>\n",
       "      <td>5</td>\n",
       "    </tr>\n",
       "    <tr>\n",
       "      <th>0</th>\n",
       "      <td>18</td>\n",
       "      <td>4</td>\n",
       "    </tr>\n",
       "    <tr>\n",
       "      <th>6</th>\n",
       "      <td>171</td>\n",
       "      <td>3</td>\n",
       "    </tr>\n",
       "    <tr>\n",
       "      <th>2</th>\n",
       "      <td>72</td>\n",
       "      <td>2</td>\n",
       "    </tr>\n",
       "    <tr>\n",
       "      <th>5</th>\n",
       "      <td>163</td>\n",
       "      <td>2</td>\n",
       "    </tr>\n",
       "    <tr>\n",
       "      <th>9</th>\n",
       "      <td>253</td>\n",
       "      <td>2</td>\n",
       "    </tr>\n",
       "    <tr>\n",
       "      <th>1</th>\n",
       "      <td>52</td>\n",
       "      <td>1</td>\n",
       "    </tr>\n",
       "    <tr>\n",
       "      <th>3</th>\n",
       "      <td>76</td>\n",
       "      <td>1</td>\n",
       "    </tr>\n",
       "    <tr>\n",
       "      <th>4</th>\n",
       "      <td>99</td>\n",
       "      <td>1</td>\n",
       "    </tr>\n",
       "    <tr>\n",
       "      <th>7</th>\n",
       "      <td>199</td>\n",
       "      <td>1</td>\n",
       "    </tr>\n",
       "    <tr>\n",
       "      <th>11</th>\n",
       "      <td>314</td>\n",
       "      <td>1</td>\n",
       "    </tr>\n",
       "  </tbody>\n",
       "</table>\n",
       "</div>"
      ],
      "text/plain": [
       "    receiver_tag_id  Cantidad_subinstituciones\n",
       "8               221                          7\n",
       "10              257                          5\n",
       "0                18                          4\n",
       "6               171                          3\n",
       "2                72                          2\n",
       "5               163                          2\n",
       "9               253                          2\n",
       "1                52                          1\n",
       "3                76                          1\n",
       "4                99                          1\n",
       "7               199                          1\n",
       "11              314                          1"
      ]
     },
     "execution_count": 8,
     "metadata": {},
     "output_type": "execute_result"
    }
   ],
   "source": [
    "receiver_tag = pd.read_csv(\"receiver_tag.csv\") \n",
    "#receivers = pd.merge(candidate[['receiver_tag_id']], receiver_tag[['receiver_id', 'id']], how ='left', left_on='receiver_tag_id', right_on='receiver_id')\n",
    "receivers = receiver_tag.groupby(['receiver_id'])['id'].count()\n",
    "receivers = pd.DataFrame(receivers)\n",
    "receivers.reset_index(inplace=True) \n",
    "receivers.columns = [\"receiver_tag_id\", \"Cantidad_subinstituciones\"]\n",
    "receivers = receivers.sort_values(by = \"Cantidad_subinstituciones\", ascending=False) \n",
    "receivers"
   ]
  },
  {
   "cell_type": "markdown",
   "id": "a9b93b0e-7697-4901-b448-a40e995b685c",
   "metadata": {},
   "source": [
    "## b. Cantidad de personas que adeudan algo con cada receiver."
   ]
  },
  {
   "cell_type": "code",
   "execution_count": 9,
   "id": "6f1031ab-0180-4c9c-87ac-144ab93d72cc",
   "metadata": {
    "tags": []
   },
   "outputs": [
    {
     "data": {
      "text/html": [
       "<div>\n",
       "<style scoped>\n",
       "    .dataframe tbody tr th:only-of-type {\n",
       "        vertical-align: middle;\n",
       "    }\n",
       "\n",
       "    .dataframe tbody tr th {\n",
       "        vertical-align: top;\n",
       "    }\n",
       "\n",
       "    .dataframe thead th {\n",
       "        text-align: right;\n",
       "    }\n",
       "</style>\n",
       "<table border=\"1\" class=\"dataframe\">\n",
       "  <thead>\n",
       "    <tr style=\"text-align: right;\">\n",
       "      <th></th>\n",
       "      <th>receiver_tag_id</th>\n",
       "      <th>Personas_por_receiver</th>\n",
       "      <th>Cantidad_subinstituciones</th>\n",
       "    </tr>\n",
       "  </thead>\n",
       "  <tbody>\n",
       "    <tr>\n",
       "      <th>20</th>\n",
       "      <td>199.0</td>\n",
       "      <td>130</td>\n",
       "      <td>1.0</td>\n",
       "    </tr>\n",
       "    <tr>\n",
       "      <th>0</th>\n",
       "      <td>56.0</td>\n",
       "      <td>159</td>\n",
       "      <td>NaN</td>\n",
       "    </tr>\n",
       "    <tr>\n",
       "      <th>1</th>\n",
       "      <td>63.0</td>\n",
       "      <td>178</td>\n",
       "      <td>NaN</td>\n",
       "    </tr>\n",
       "    <tr>\n",
       "      <th>2</th>\n",
       "      <td>79.0</td>\n",
       "      <td>328</td>\n",
       "      <td>NaN</td>\n",
       "    </tr>\n",
       "    <tr>\n",
       "      <th>3</th>\n",
       "      <td>107.0</td>\n",
       "      <td>9</td>\n",
       "      <td>NaN</td>\n",
       "    </tr>\n",
       "    <tr>\n",
       "      <th>...</th>\n",
       "      <td>...</td>\n",
       "      <td>...</td>\n",
       "      <td>...</td>\n",
       "    </tr>\n",
       "    <tr>\n",
       "      <th>159</th>\n",
       "      <td>637.0</td>\n",
       "      <td>23</td>\n",
       "      <td>NaN</td>\n",
       "    </tr>\n",
       "    <tr>\n",
       "      <th>160</th>\n",
       "      <td>638.0</td>\n",
       "      <td>12</td>\n",
       "      <td>NaN</td>\n",
       "    </tr>\n",
       "    <tr>\n",
       "      <th>161</th>\n",
       "      <td>639.0</td>\n",
       "      <td>21</td>\n",
       "      <td>NaN</td>\n",
       "    </tr>\n",
       "    <tr>\n",
       "      <th>162</th>\n",
       "      <td>650.0</td>\n",
       "      <td>1</td>\n",
       "      <td>NaN</td>\n",
       "    </tr>\n",
       "    <tr>\n",
       "      <th>163</th>\n",
       "      <td>651.0</td>\n",
       "      <td>21</td>\n",
       "      <td>NaN</td>\n",
       "    </tr>\n",
       "  </tbody>\n",
       "</table>\n",
       "<p>164 rows × 3 columns</p>\n",
       "</div>"
      ],
      "text/plain": [
       "     receiver_tag_id  Personas_por_receiver  Cantidad_subinstituciones\n",
       "20             199.0                    130                        1.0\n",
       "0               56.0                    159                        NaN\n",
       "1               63.0                    178                        NaN\n",
       "2               79.0                    328                        NaN\n",
       "3              107.0                      9                        NaN\n",
       "..               ...                    ...                        ...\n",
       "159            637.0                     23                        NaN\n",
       "160            638.0                     12                        NaN\n",
       "161            639.0                     21                        NaN\n",
       "162            650.0                      1                        NaN\n",
       "163            651.0                     21                        NaN\n",
       "\n",
       "[164 rows x 3 columns]"
      ]
     },
     "execution_count": 9,
     "metadata": {},
     "output_type": "execute_result"
    }
   ],
   "source": [
    "x = pd.merge(users[[\"user_id\", \"identity_code\"]], candidate[[ \"receiver_tag_id\", 'identity_code']], how=\"left\", left_on=\"identity_code\", right_on=\"identity_code\") \n",
    "x = x[['user_id', 'receiver_tag_id']].groupby([\"receiver_tag_id\"])['user_id'].count()\n",
    "x = pd.DataFrame(x) \n",
    "x.reset_index(inplace=True) \n",
    "x.columns = [ 'receiver_tag_id', \"Personas_por_receiver\"]\n",
    "receivers = pd.merge(x, receivers, how= 'left') \n",
    "receivers = receivers.sort_values( by = 'Cantidad_subinstituciones') \n",
    "receivers # solo un registro de subinstitución no nulo pues es el unico que hace match en las tres tablas que tenemos "
   ]
  },
  {
   "cell_type": "markdown",
   "id": "f1469350-2273-46b7-8ae5-cc7687d68223",
   "metadata": {},
   "source": [
    "## c. Cantidad de usuarios Destácame que adeudan algo con cada receiver.\n",
    "\n",
    "En este caso es el mismo que el punto anterior pues no encontramos registros de personas fuera de la tabla users "
   ]
  },
  {
   "cell_type": "markdown",
   "id": "4f5ba44d-9e5f-4643-af40-a1d867b0662f",
   "metadata": {
    "tags": []
   },
   "source": [
    "## d. Monto promedio adeudado por personas en general y Monto promedio adeudado de usuarios Destácame. \n",
    "\n"
   ]
  },
  {
   "cell_type": "code",
   "execution_count": 10,
   "id": "11cde74e-c059-4058-997d-ce90c717dc8f",
   "metadata": {
    "tags": []
   },
   "outputs": [
    {
     "data": {
      "text/html": [
       "<div>\n",
       "<style scoped>\n",
       "    .dataframe tbody tr th:only-of-type {\n",
       "        vertical-align: middle;\n",
       "    }\n",
       "\n",
       "    .dataframe tbody tr th {\n",
       "        vertical-align: top;\n",
       "    }\n",
       "\n",
       "    .dataframe thead th {\n",
       "        text-align: right;\n",
       "    }\n",
       "</style>\n",
       "<table border=\"1\" class=\"dataframe\">\n",
       "  <thead>\n",
       "    <tr style=\"text-align: right;\">\n",
       "      <th></th>\n",
       "      <th>receiver_tag_id</th>\n",
       "      <th>Monto_promedio_adeudado</th>\n",
       "      <th>Personas_por_receiver</th>\n",
       "      <th>Cantidad_subinstituciones</th>\n",
       "    </tr>\n",
       "  </thead>\n",
       "  <tbody>\n",
       "    <tr>\n",
       "      <th>0</th>\n",
       "      <td>56</td>\n",
       "      <td>3.666475e+05</td>\n",
       "      <td>159</td>\n",
       "      <td>NaN</td>\n",
       "    </tr>\n",
       "    <tr>\n",
       "      <th>1</th>\n",
       "      <td>63</td>\n",
       "      <td>1.747686e+05</td>\n",
       "      <td>178</td>\n",
       "      <td>NaN</td>\n",
       "    </tr>\n",
       "    <tr>\n",
       "      <th>2</th>\n",
       "      <td>79</td>\n",
       "      <td>9.454214e+04</td>\n",
       "      <td>328</td>\n",
       "      <td>NaN</td>\n",
       "    </tr>\n",
       "    <tr>\n",
       "      <th>3</th>\n",
       "      <td>107</td>\n",
       "      <td>1.366667e+05</td>\n",
       "      <td>9</td>\n",
       "      <td>NaN</td>\n",
       "    </tr>\n",
       "    <tr>\n",
       "      <th>4</th>\n",
       "      <td>111</td>\n",
       "      <td>6.408131e+05</td>\n",
       "      <td>22</td>\n",
       "      <td>NaN</td>\n",
       "    </tr>\n",
       "    <tr>\n",
       "      <th>...</th>\n",
       "      <td>...</td>\n",
       "      <td>...</td>\n",
       "      <td>...</td>\n",
       "      <td>...</td>\n",
       "    </tr>\n",
       "    <tr>\n",
       "      <th>159</th>\n",
       "      <td>637</td>\n",
       "      <td>3.758710e+05</td>\n",
       "      <td>23</td>\n",
       "      <td>NaN</td>\n",
       "    </tr>\n",
       "    <tr>\n",
       "      <th>160</th>\n",
       "      <td>638</td>\n",
       "      <td>2.948840e+05</td>\n",
       "      <td>12</td>\n",
       "      <td>NaN</td>\n",
       "    </tr>\n",
       "    <tr>\n",
       "      <th>161</th>\n",
       "      <td>639</td>\n",
       "      <td>1.706840e+05</td>\n",
       "      <td>21</td>\n",
       "      <td>NaN</td>\n",
       "    </tr>\n",
       "    <tr>\n",
       "      <th>162</th>\n",
       "      <td>650</td>\n",
       "      <td>3.142180e+05</td>\n",
       "      <td>1</td>\n",
       "      <td>NaN</td>\n",
       "    </tr>\n",
       "    <tr>\n",
       "      <th>163</th>\n",
       "      <td>651</td>\n",
       "      <td>1.076781e+06</td>\n",
       "      <td>21</td>\n",
       "      <td>NaN</td>\n",
       "    </tr>\n",
       "  </tbody>\n",
       "</table>\n",
       "<p>164 rows × 4 columns</p>\n",
       "</div>"
      ],
      "text/plain": [
       "     receiver_tag_id  Monto_promedio_adeudado  Personas_por_receiver  \\\n",
       "0                 56             3.666475e+05                    159   \n",
       "1                 63             1.747686e+05                    178   \n",
       "2                 79             9.454214e+04                    328   \n",
       "3                107             1.366667e+05                      9   \n",
       "4                111             6.408131e+05                     22   \n",
       "..               ...                      ...                    ...   \n",
       "159              637             3.758710e+05                     23   \n",
       "160              638             2.948840e+05                     12   \n",
       "161              639             1.706840e+05                     21   \n",
       "162              650             3.142180e+05                      1   \n",
       "163              651             1.076781e+06                     21   \n",
       "\n",
       "     Cantidad_subinstituciones  \n",
       "0                          NaN  \n",
       "1                          NaN  \n",
       "2                          NaN  \n",
       "3                          NaN  \n",
       "4                          NaN  \n",
       "..                         ...  \n",
       "159                        NaN  \n",
       "160                        NaN  \n",
       "161                        NaN  \n",
       "162                        NaN  \n",
       "163                        NaN  \n",
       "\n",
       "[164 rows x 4 columns]"
      ]
     },
     "execution_count": 10,
     "metadata": {},
     "output_type": "execute_result"
    }
   ],
   "source": [
    "x = candidate.groupby(['receiver_tag_id'])['debt_amount'].mean()\n",
    "x = pd.DataFrame(x) \n",
    "x.reset_index(inplace=True) \n",
    "x.columns = ['receiver_tag_id', 'Monto_promedio_adeudado']\n",
    "receivers = pd.merge(x, receivers, how= 'left') \n",
    "receivers"
   ]
  },
  {
   "cell_type": "markdown",
   "id": "c98fcd04-4c8c-465b-b298-511607b06e2c",
   "metadata": {},
   "source": [
    "# 3. Calcule, para las tablas de users y receivers\n",
    "\n",
    "\n",
    "Para users: \n",
    "- Promedio del monto adeudado.\n"
   ]
  },
  {
   "cell_type": "code",
   "execution_count": 11,
   "id": "c2867154-fa2c-413c-b36d-6c0392877dfe",
   "metadata": {
    "tags": []
   },
   "outputs": [
    {
     "data": {
      "text/plain": [
       "1018170.042527339"
      ]
     },
     "execution_count": 11,
     "metadata": {},
     "output_type": "execute_result"
    }
   ],
   "source": [
    "users_mas = pd.merge( users, candidate, how='left') \n",
    "users_mas.debt_amount.mean()\n"
   ]
  },
  {
   "cell_type": "markdown",
   "id": "b64cb657-3baf-473f-a6aa-02f6ae14dcee",
   "metadata": {},
   "source": [
    "- Promedio del monto a pagar "
   ]
  },
  {
   "cell_type": "code",
   "execution_count": 12,
   "id": "69c291d1-f64e-448c-b795-98b637c7a6d4",
   "metadata": {
    "tags": []
   },
   "outputs": [
    {
     "data": {
      "text/plain": [
       "408083.04533423105"
      ]
     },
     "execution_count": 12,
     "metadata": {},
     "output_type": "execute_result"
    }
   ],
   "source": [
    "( (( 100- users_mas.max_discount )/100 )*users_mas.debt_amount).mean()"
   ]
  },
  {
   "cell_type": "markdown",
   "id": "cfe020d0-1869-4dee-84f9-6657b703e0da",
   "metadata": {},
   "source": [
    "Para receivers: \n",
    "- Promedio del monto adeudado: \n"
   ]
  },
  {
   "cell_type": "code",
   "execution_count": 13,
   "id": "067cd162-baec-4cee-822a-a2e2d6dd9b87",
   "metadata": {
    "tags": []
   },
   "outputs": [
    {
     "data": {
      "text/plain": [
       "2122967.6597791915"
      ]
     },
     "execution_count": 13,
     "metadata": {},
     "output_type": "execute_result"
    }
   ],
   "source": [
    "receivers.Monto_promedio_adeudado.mean()"
   ]
  },
  {
   "cell_type": "markdown",
   "id": "11eb9177-6b6d-4164-9acd-742845744d02",
   "metadata": {},
   "source": [
    "- Promedio del monto a pagar\n",
    "\n",
    "\n",
    "\n",
    "Para este punto necesito calcular la columna \"Monto promedio por pagar por receiver\""
   ]
  },
  {
   "cell_type": "code",
   "execution_count": 14,
   "id": "d018c5a1-8e98-4f9c-b50c-ddd740c7d169",
   "metadata": {
    "tags": []
   },
   "outputs": [
    {
     "data": {
      "text/html": [
       "<div>\n",
       "<style scoped>\n",
       "    .dataframe tbody tr th:only-of-type {\n",
       "        vertical-align: middle;\n",
       "    }\n",
       "\n",
       "    .dataframe tbody tr th {\n",
       "        vertical-align: top;\n",
       "    }\n",
       "\n",
       "    .dataframe thead th {\n",
       "        text-align: right;\n",
       "    }\n",
       "</style>\n",
       "<table border=\"1\" class=\"dataframe\">\n",
       "  <thead>\n",
       "    <tr style=\"text-align: right;\">\n",
       "      <th></th>\n",
       "      <th>receiver_tag_id</th>\n",
       "      <th>Monto_promedio_por_pagar</th>\n",
       "      <th>Monto_promedio_adeudado</th>\n",
       "      <th>Personas_por_receiver</th>\n",
       "      <th>Cantidad_subinstituciones</th>\n",
       "    </tr>\n",
       "  </thead>\n",
       "  <tbody>\n",
       "    <tr>\n",
       "      <th>0</th>\n",
       "      <td>56</td>\n",
       "      <td>307999.703459</td>\n",
       "      <td>3.666475e+05</td>\n",
       "      <td>159</td>\n",
       "      <td>NaN</td>\n",
       "    </tr>\n",
       "    <tr>\n",
       "      <th>1</th>\n",
       "      <td>63</td>\n",
       "      <td>22786.288034</td>\n",
       "      <td>1.747686e+05</td>\n",
       "      <td>178</td>\n",
       "      <td>NaN</td>\n",
       "    </tr>\n",
       "    <tr>\n",
       "      <th>2</th>\n",
       "      <td>79</td>\n",
       "      <td>19681.284177</td>\n",
       "      <td>9.454214e+04</td>\n",
       "      <td>328</td>\n",
       "      <td>NaN</td>\n",
       "    </tr>\n",
       "    <tr>\n",
       "      <th>3</th>\n",
       "      <td>107</td>\n",
       "      <td>19774.283333</td>\n",
       "      <td>1.366667e+05</td>\n",
       "      <td>9</td>\n",
       "      <td>NaN</td>\n",
       "    </tr>\n",
       "    <tr>\n",
       "      <th>4</th>\n",
       "      <td>111</td>\n",
       "      <td>49196.247727</td>\n",
       "      <td>6.408131e+05</td>\n",
       "      <td>22</td>\n",
       "      <td>NaN</td>\n",
       "    </tr>\n",
       "    <tr>\n",
       "      <th>...</th>\n",
       "      <td>...</td>\n",
       "      <td>...</td>\n",
       "      <td>...</td>\n",
       "      <td>...</td>\n",
       "      <td>...</td>\n",
       "    </tr>\n",
       "    <tr>\n",
       "      <th>159</th>\n",
       "      <td>637</td>\n",
       "      <td>317447.948696</td>\n",
       "      <td>3.758710e+05</td>\n",
       "      <td>23</td>\n",
       "      <td>NaN</td>\n",
       "    </tr>\n",
       "    <tr>\n",
       "      <th>160</th>\n",
       "      <td>638</td>\n",
       "      <td>103839.834167</td>\n",
       "      <td>2.948840e+05</td>\n",
       "      <td>12</td>\n",
       "      <td>NaN</td>\n",
       "    </tr>\n",
       "    <tr>\n",
       "      <th>161</th>\n",
       "      <td>639</td>\n",
       "      <td>138016.385714</td>\n",
       "      <td>1.706840e+05</td>\n",
       "      <td>21</td>\n",
       "      <td>NaN</td>\n",
       "    </tr>\n",
       "    <tr>\n",
       "      <th>162</th>\n",
       "      <td>650</td>\n",
       "      <td>191672.980000</td>\n",
       "      <td>3.142180e+05</td>\n",
       "      <td>1</td>\n",
       "      <td>NaN</td>\n",
       "    </tr>\n",
       "    <tr>\n",
       "      <th>163</th>\n",
       "      <td>651</td>\n",
       "      <td>588500.257619</td>\n",
       "      <td>1.076781e+06</td>\n",
       "      <td>21</td>\n",
       "      <td>NaN</td>\n",
       "    </tr>\n",
       "  </tbody>\n",
       "</table>\n",
       "<p>164 rows × 5 columns</p>\n",
       "</div>"
      ],
      "text/plain": [
       "     receiver_tag_id  Monto_promedio_por_pagar  Monto_promedio_adeudado  \\\n",
       "0                 56             307999.703459             3.666475e+05   \n",
       "1                 63              22786.288034             1.747686e+05   \n",
       "2                 79              19681.284177             9.454214e+04   \n",
       "3                107              19774.283333             1.366667e+05   \n",
       "4                111              49196.247727             6.408131e+05   \n",
       "..               ...                       ...                      ...   \n",
       "159              637             317447.948696             3.758710e+05   \n",
       "160              638             103839.834167             2.948840e+05   \n",
       "161              639             138016.385714             1.706840e+05   \n",
       "162              650             191672.980000             3.142180e+05   \n",
       "163              651             588500.257619             1.076781e+06   \n",
       "\n",
       "     Personas_por_receiver  Cantidad_subinstituciones  \n",
       "0                      159                        NaN  \n",
       "1                      178                        NaN  \n",
       "2                      328                        NaN  \n",
       "3                        9                        NaN  \n",
       "4                       22                        NaN  \n",
       "..                     ...                        ...  \n",
       "159                     23                        NaN  \n",
       "160                     12                        NaN  \n",
       "161                     21                        NaN  \n",
       "162                      1                        NaN  \n",
       "163                     21                        NaN  \n",
       "\n",
       "[164 rows x 5 columns]"
      ]
     },
     "execution_count": 14,
     "metadata": {},
     "output_type": "execute_result"
    }
   ],
   "source": [
    "candidate[\"Monto_por_pagar\"] = ((100-candidate.max_discount)/100)*candidate.debt_amount\n",
    "x = candidate.groupby(['receiver_tag_id'])['Monto_por_pagar'].mean()\n",
    "x = pd.DataFrame(x) \n",
    "x.reset_index(inplace=True) \n",
    "x.columns = ['receiver_tag_id', 'Monto_promedio_por_pagar']\n",
    "receivers = pd.merge(x, receivers, how= 'left') \n",
    "receivers"
   ]
  },
  {
   "cell_type": "code",
   "execution_count": 15,
   "id": "a04d5e57-ae2e-4117-950b-c4990d2dd9d0",
   "metadata": {
    "tags": []
   },
   "outputs": [
    {
     "data": {
      "text/plain": [
       "500997.49347072584"
      ]
     },
     "execution_count": 15,
     "metadata": {},
     "output_type": "execute_result"
    }
   ],
   "source": [
    "receivers.Monto_promedio_por_pagar.mean()"
   ]
  },
  {
   "cell_type": "markdown",
   "id": "7ffacc82-414f-45c6-abb0-a66581483eb4",
   "metadata": {},
   "source": [
    "# 4. Explique por qué cree usted que existen diferencias entre las tablas para los cálculos del punto 3.\n",
    "\n",
    "\n",
    "\n",
    "Las diferencias entre los montos promedios calculados entre las tablas se deben precisamente a que son promedios. \n",
    "Aunque en ambos casos se divide una cantidad fija, ya sea la cantidad total que se debe (como en el primer caso) o la cantidad máxima que se pagará (como en el segundo) el “n” en el que se divide es diferente en cada caso. En el caso de la tabla users se divide simplemente en el número de usuarios mientras que para el caso de receivers se divide entre el número de receivers que existen por lo que el promedio es mayor al ser el número de receivers menor que el de usuarios.   \n"
   ]
  },
  {
   "cell_type": "markdown",
   "id": "5f4f8fd5-d565-4137-992b-3a8b20f6bf1d",
   "metadata": {
    "tags": []
   },
   "source": [
    "# 5 . Dashboard"
   ]
  },
  {
   "cell_type": "code",
   "execution_count": 50,
   "id": "520ea3d3-b8ed-4217-b85e-31dfd2dd2dda",
   "metadata": {
    "tags": []
   },
   "outputs": [],
   "source": [
    "from plotnine import * \n",
    "#data_1_1.to_csv(\"data_1_1.csv\", index=False)\n",
    "\n",
    "#ggplot( data_1_1, aes( x='ANIO_DEUDA')) + geom_histogram() + theme_minimal()"
   ]
  },
  {
   "cell_type": "markdown",
   "id": "dd41eb50-b6d0-4f70-9144-5c32b4e3b5ba",
   "metadata": {},
   "source": [
    "En un dashbord buscaria poner la metrica de deuda promedio o bien la cantidad maxima a pagar promedio por persona como indicadores generales. \n",
    "\n",
    "En este caso como realizar grafícas de ellas en forma de semaforos o simples barras es muy elaborado los dejo indicadas como un histograma. "
   ]
  },
  {
   "cell_type": "code",
   "execution_count": 57,
   "id": "15d98c5b-fa8a-485b-a1ef-ce4b297af28b",
   "metadata": {
    "tags": []
   },
   "outputs": [
    {
     "name": "stderr",
     "output_type": "stream",
     "text": [
      "/Users/antonio/anaconda3/lib/python3.11/site-packages/plotnine/layer.py:284: PlotnineWarning: stat_bin : Removed 3849 rows containing non-finite values.\n",
      "/Users/antonio/anaconda3/lib/python3.11/site-packages/plotnine/layer.py:364: PlotnineWarning: geom_histogram : Removed 2 rows containing missing values.\n"
     ]
    },
    {
     "data": {
      "image/png": "[encoded data removed]",
      "text/plain": [
       "<Figure size 640x480 with 1 Axes>"
      ]
     },
     "metadata": {
      "image/png": {
       "height": 480,
       "width": 640
      },
      "needs_background": "light"
     },
     "output_type": "display_data"
    },
    {
     "data": {
      "text/plain": [
       "<Figure Size: (640 x 480)>"
      ]
     },
     "execution_count": 57,
     "metadata": {},
     "output_type": "execute_result"
    }
   ],
   "source": [
    "ggplot(plot1, aes(x='debt_amount')) + geom_histogram(bins=100) +geom_vline(xintercept=plot1.debt_amount.mean(), color= \"red\") + xlim([0, 3000000])+  theme_minimal() +ggtitle(\"Deuda promedio por usuario\")"
   ]
  },
  {
   "cell_type": "markdown",
   "id": "ba8b22cb-c424-4500-9f5c-005568a09ade",
   "metadata": {},
   "source": [
    "En una sección de receivers, graficaria el top de los receiver con más usuarios para prestarle atención a la atención al cliente y saber en donde concentrar esfuerzos y en donde podría haber alta transaccionalidad. "
   ]
  },
  {
   "cell_type": "code",
   "execution_count": 74,
   "id": "ab47f013-24d7-48f0-82af-bec47b2a545c",
   "metadata": {
    "tags": []
   },
   "outputs": [
    {
     "data": {
      "image/png": "[encoded data removed]",
      "text/plain": [
       "<Figure size 640x480 with 1 Axes>"
      ]
     },
     "metadata": {
      "image/png": {
       "height": 480,
       "width": 640
      },
      "needs_background": "light"
     },
     "output_type": "display_data"
    },
    {
     "data": {
      "text/plain": [
       "<Figure Size: (640 x 480)>"
      ]
     },
     "execution_count": 74,
     "metadata": {},
     "output_type": "execute_result"
    }
   ],
   "source": [
    "\n",
    "\n",
    "receivers_plot = receivers.sort_values( by= 'Personas_por_receiver', ascending=False).head(20)  \n",
    "receivers_plot\n",
    "ggplot(receivers_plot, aes( x='factor(receiver_tag_id)', y = 'Personas_por_receiver')) + geom_col() + coord_flip() + ggtitle(\"Top 20 de Receivers con más users\") +\\\n",
    "ylab(\"\") + xlab(\"\") + theme_minimal()"
   ]
  },
  {
   "cell_type": "markdown",
   "id": "f900994a-277e-4759-a590-a42b4200b8fd",
   "metadata": {},
   "source": [
    "Junto al volumen de usuarios tambien por cada receiver graficaria el monto promedio para los top"
   ]
  },
  {
   "cell_type": "code",
   "execution_count": 77,
   "id": "6fd185c4-5e8e-4ffc-bf02-17734d2d1f2e",
   "metadata": {
    "tags": []
   },
   "outputs": [
    {
     "data": {
      "image/png": "[encoded data removed]",
      "text/plain": [
       "<Figure size 640x480 with 1 Axes>"
      ]
     },
     "metadata": {
      "image/png": {
       "height": 480,
       "width": 640
      },
      "needs_background": "light"
     },
     "output_type": "display_data"
    },
    {
     "data": {
      "text/plain": [
       "<Figure Size: (640 x 480)>"
      ]
     },
     "execution_count": 77,
     "metadata": {},
     "output_type": "execute_result"
    }
   ],
   "source": [
    "\n",
    "receivers_plot = receivers.sort_values( by= 'Monto_promedio_adeudado', ascending=False).head(20)  \n",
    "ggplot(receivers_plot, aes( x='factor(receiver_tag_id)', y = 'Monto_promedio_adeudado')) + geom_col()  + ggtitle(\"Top 20 de Receivers con más mayor monto adeudado promedio\") +\\\n",
    "ylab(\"\") + xlab(\"\") + theme_minimal()"
   ]
  },
  {
   "cell_type": "markdown",
   "id": "575a906d-7fd3-4100-a03b-c5d817363e32",
   "metadata": {
    "tags": []
   },
   "source": [
    "En otro apartado del dashboard tendria un descriptivo de los usuarios. \n",
    "\n",
    "Donde tendría la distribución del país, sexo, \n",
    "\n",
    "\n"
   ]
  },
  {
   "cell_type": "code",
   "execution_count": 87,
   "id": "0ee8a9b8-7781-464d-96f3-7856be4bd360",
   "metadata": {
    "tags": []
   },
   "outputs": [
    {
     "data": {
      "image/png": "[encoded data removed]",
      "text/plain": [
       "<Figure size 640x480 with 1 Axes>"
      ]
     },
     "metadata": {
      "image/png": {
       "height": 480,
       "width": 640
      },
      "needs_background": "light"
     },
     "output_type": "display_data"
    },
    {
     "data": {
      "text/plain": [
       "<Figure Size: (640 x 480)>"
      ]
     },
     "execution_count": 87,
     "metadata": {},
     "output_type": "execute_result"
    }
   ],
   "source": [
    "p1 = users.country_code.value_counts()\n",
    "p1 = pd.DataFrame(p1) \n",
    "p1.reset_index(inplace=True)\n",
    "p1.columns = [\"País\", \"conteo\"]\n",
    "ggplot(p1, aes( x= 'País', y=\"conteo\", fill= 'País')) + geom_col() + theme_minimal() + ggtitle(\"País\")  + xlab(\"\") + ylab(\"\") "
   ]
  },
  {
   "cell_type": "code",
   "execution_count": 92,
   "id": "e813dec1-54cb-4c9f-ac35-53d800c10b3c",
   "metadata": {
    "tags": []
   },
   "outputs": [
    {
     "data": {
      "image/png": "[encoded data removed]",
      "text/plain": [
       "<Figure size 640x480 with 1 Axes>"
      ]
     },
     "metadata": {
      "image/png": {
       "height": 480,
       "width": 640
      },
      "needs_background": "light"
     },
     "output_type": "display_data"
    },
    {
     "data": {
      "text/plain": [
       "<Figure Size: (640 x 480)>"
      ]
     },
     "execution_count": 92,
     "metadata": {},
     "output_type": "execute_result"
    }
   ],
   "source": [
    "p1 = users.gender.value_counts()\n",
    "p1 = pd.DataFrame(p1) \n",
    "p1.reset_index(inplace=True)\n",
    "p1.columns = [\"Gender\", \"conteo\"]\n",
    "ggplot(p1, aes( x= 'Gender', y=\"conteo\", fill= 'Gender')) + geom_col() + theme_minimal() + ggtitle(\"Gender\")  + xlab(\"\") + ylab(\"\") "
   ]
  },
  {
   "cell_type": "code",
   "execution_count": null,
   "id": "41bfb90a-c23e-447c-9bc5-efeefca8a101",
   "metadata": {},
   "outputs": [],
   "source": []
  }
 ],
 "metadata": {
  "kernelspec": {
   "display_name": "Python 3 (ipykernel)",
   "language": "python",
   "name": "python3"
  },
  "language_info": {
   "codemirror_mode": {
    "name": "ipython",
    "version": 3
   },
   "file_extension": ".py",
   "mimetype": "text/x-python",
   "name": "python",
   "nbconvert_exporter": "python",
   "pygments_lexer": "ipython3",
   "version": "3.11.0"
  },
  "widgets": {
   "application/vnd.jupyter.widget-state+json": {
    "state": {},
    "version_major": 2,
    "version_minor": 0
   }
  }
 },
 "nbformat": 4,
 "nbformat_minor": 5
}
